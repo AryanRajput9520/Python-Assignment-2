{
 "cells": [
  {
   "cell_type": "markdown",
   "id": "90cf9adf-a113-4831-89de-6d25502cae5d",
   "metadata": {},
   "source": [
    "# Capitalize "
   ]
  },
  {
   "cell_type": "code",
   "execution_count": 12,
   "id": "90059d30-cb15-44d0-9ad5-e2a5db54df7f",
   "metadata": {},
   "outputs": [
    {
     "name": "stdout",
     "output_type": "stream",
     "text": [
      "Python\n"
     ]
    }
   ],
   "source": [
    "string = \"python\"\n",
    "print(string.capitalize())"
   ]
  },
  {
   "cell_type": "markdown",
   "id": "5a6d01f6-96f6-4150-94d9-e44f6bbacbb1",
   "metadata": {},
   "source": [
    "# lower() : Converts string into lowercase"
   ]
  },
  {
   "cell_type": "code",
   "execution_count": 14,
   "id": "2cc2db05-21c7-49de-b5c5-8c0715a8e76a",
   "metadata": {},
   "outputs": [
    {
     "name": "stdout",
     "output_type": "stream",
     "text": [
      "python\n"
     ]
    }
   ],
   "source": [
    "string = \"python\"\n",
    "print(string.lower())"
   ]
  },
  {
   "cell_type": "markdown",
   "id": "a81612e2-e30f-4382-bc18-444860633787",
   "metadata": {},
   "source": [
    "# Upper : Converts string into uppercase"
   ]
  },
  {
   "cell_type": "code",
   "execution_count": 15,
   "id": "1aa50752-226d-4570-ba20-4b0c3619f591",
   "metadata": {},
   "outputs": [
    {
     "name": "stdout",
     "output_type": "stream",
     "text": [
      "PYTHON\n"
     ]
    }
   ],
   "source": [
    "string = \"python\"\n",
    "print(string.upper())"
   ]
  },
  {
   "cell_type": "markdown",
   "id": "0bce3d11-16c5-4400-9b2c-57e006586866",
   "metadata": {},
   "source": [
    "# Casefold"
   ]
  },
  {
   "cell_type": "code",
   "execution_count": 16,
   "id": "2355e708-b643-4c2e-b6a2-4e6fb9d578c8",
   "metadata": {},
   "outputs": [
    {
     "data": {
      "text/plain": [
       "'python'"
      ]
     },
     "execution_count": 16,
     "metadata": {},
     "output_type": "execute_result"
    }
   ],
   "source": [
    "string = \"python\"\n",
    "string.casefold()"
   ]
  },
  {
   "cell_type": "markdown",
   "id": "780ef19c-d925-4e8e-a882-bf5a237a786e",
   "metadata": {},
   "source": [
    "# Count"
   ]
  },
  {
   "cell_type": "code",
   "execution_count": 25,
   "id": "fdb3e42f-46be-4249-8ad6-303e5d40c05d",
   "metadata": {},
   "outputs": [
    {
     "name": "stdout",
     "output_type": "stream",
     "text": [
      "1\n"
     ]
    }
   ],
   "source": [
    "string = \"python\"\n",
    "print(string.count(\"n\"))"
   ]
  },
  {
   "cell_type": "code",
   "execution_count": 8,
   "id": "8bdb0e36-649e-45d0-b856-6a83bd53f1a1",
   "metadata": {},
   "outputs": [
    {
     "name": "stdout",
     "output_type": "stream",
     "text": [
      "1\n"
     ]
    }
   ],
   "source": [
    "string = \"python is programming language\"\n",
    "print(string.count(\"is\"))"
   ]
  },
  {
   "cell_type": "markdown",
   "id": "f5e5c89f-3644-4dd3-9dac-d7f2fa714e4e",
   "metadata": {},
   "source": [
    "# Find"
   ]
  },
  {
   "cell_type": "code",
   "execution_count": 50,
   "id": "dafea97e-2acb-470a-b67a-f0d82ddf6b66",
   "metadata": {},
   "outputs": [
    {
     "name": "stdout",
     "output_type": "stream",
     "text": [
      "0\n"
     ]
    }
   ],
   "source": [
    "string = \"Hello World\"\n",
    "print(string.find(\"H\"))"
   ]
  },
  {
   "cell_type": "markdown",
   "id": "59de5b65-ed1a-431f-821d-f03b07c10d42",
   "metadata": {},
   "source": [
    "# index"
   ]
  },
  {
   "cell_type": "code",
   "execution_count": 53,
   "id": "870416bd-884f-4303-b7af-91ae1e533216",
   "metadata": {},
   "outputs": [
    {
     "name": "stdout",
     "output_type": "stream",
     "text": [
      "10\n"
     ]
    }
   ],
   "source": [
    "string = \"hello world\"\n",
    "print(string.index(\"d\"))"
   ]
  },
  {
   "cell_type": "markdown",
   "id": "5829c3d8-444c-460f-8748-675ddef9fb36",
   "metadata": {},
   "source": [
    "# replace() : replaces substring with another substring  "
   ]
  },
  {
   "cell_type": "code",
   "execution_count": 55,
   "id": "21533c5f-1a88-439a-a714-3fd070239e5a",
   "metadata": {},
   "outputs": [
    {
     "name": "stdout",
     "output_type": "stream",
     "text": [
      "pro2rammin2 lan2ua2e pro2ram lan2ua2e \n"
     ]
    }
   ],
   "source": [
    "string = \"programming language program language \"\n",
    "print(string.replace(\"g\" , \"2\"))"
   ]
  },
  {
   "cell_type": "markdown",
   "id": "37a01f90-4290-4453-9203-e37d1bce152f",
   "metadata": {},
   "source": [
    "# isalnum() : Alphanumeric character include letters (a-z , A-Z) and (0-9). strings contains only alphanumeric characters(no spaces or special symbols)"
   ]
  },
  {
   "cell_type": "code",
   "execution_count": 63,
   "id": "b53a3d72-2939-4e8d-88fc-53fca9b5527a",
   "metadata": {},
   "outputs": [
    {
     "name": "stdout",
     "output_type": "stream",
     "text": [
      "True\n"
     ]
    }
   ],
   "source": [
    "string = \"aryan123\" # no space no special symbol \n",
    "print(string.isalnum())"
   ]
  },
  {
   "cell_type": "code",
   "execution_count": 62,
   "id": "f547a48b-e9fc-413a-82fc-949b505c63a4",
   "metadata": {},
   "outputs": [
    {
     "name": "stdout",
     "output_type": "stream",
     "text": [
      "False\n"
     ]
    }
   ],
   "source": [
    "string = \"string methods\" # space is their\n",
    "print(string.isalnum())"
   ]
  },
  {
   "cell_type": "markdown",
   "id": "98272643-660a-43f4-a5db-6f05e86179fe",
   "metadata": {},
   "source": [
    "# isalpha() : all characters in a string are alphabetic(a-z , A-Z)"
   ]
  },
  {
   "cell_type": "code",
   "execution_count": 65,
   "id": "7c7381cf-6607-40d8-9835-dff7d617ec85",
   "metadata": {},
   "outputs": [
    {
     "name": "stdout",
     "output_type": "stream",
     "text": [
      "False\n"
     ]
    }
   ],
   "source": [
    "string = \"string methods\" # returns come false when string including cases with spaces , numbers , or special characters\n",
    "print(string.isalpha())"
   ]
  },
  {
   "cell_type": "code",
   "execution_count": 69,
   "id": "56def896-fd7e-40f4-9bc1-7e3d51c70c2e",
   "metadata": {},
   "outputs": [
    {
     "name": "stdout",
     "output_type": "stream",
     "text": [
      "True\n"
     ]
    }
   ],
   "source": [
    "string = \"stringmethods\" # no space , no special character , no numbers\n",
    "print(string.isalpha())"
   ]
  },
  {
   "cell_type": "markdown",
   "id": "8bcf4089-11ab-4c9c-8ce2-2d3c18123f84",
   "metadata": {},
   "source": [
    "# isascii() : All characters in a string are ASCII characters"
   ]
  },
  {
   "cell_type": "code",
   "execution_count": 71,
   "id": "452e9348-5f2d-4241-896e-8df4d2c4a82b",
   "metadata": {},
   "outputs": [
    {
     "name": "stdout",
     "output_type": "stream",
     "text": [
      "True\n"
     ]
    }
   ],
   "source": [
    "string = \"vddhgdfvd sdgf jhhjcvdzew231  7837/*qwdh\"\n",
    "print(string.isascii())"
   ]
  },
  {
   "cell_type": "code",
   "execution_count": 79,
   "id": "a18c69ee-899d-456c-abde-cabc7f7b06d0",
   "metadata": {},
   "outputs": [
    {
     "name": "stdout",
     "output_type": "stream",
     "text": [
      "False\n"
     ]
    }
   ],
   "source": [
    "string = \"नमस्ते21\"\n",
    "print(string.isascii())"
   ]
  },
  {
   "cell_type": "markdown",
   "id": "94befaa3-db1a-4ec8-a97d-c47a6fc76a4f",
   "metadata": {},
   "source": [
    "# isdecimal() :  True if all characters in the string are decimal digits (0-9) and there is at least one character, otherwise it returns False"
   ]
  },
  {
   "cell_type": "code",
   "execution_count": 85,
   "id": "14b357fe-3688-4612-844e-3136b42595a5",
   "metadata": {},
   "outputs": [
    {
     "name": "stdout",
     "output_type": "stream",
     "text": [
      "True\n"
     ]
    }
   ],
   "source": [
    "string = \"125\"\n",
    "print(string.isdecimal())"
   ]
  },
  {
   "cell_type": "code",
   "execution_count": 87,
   "id": "6fabf4c4-a108-4b71-b1f5-ed5fe41c9d78",
   "metadata": {},
   "outputs": [
    {
     "name": "stdout",
     "output_type": "stream",
     "text": [
      "False\n"
     ]
    }
   ],
   "source": [
    "string = \"12.5\" # in string their is a decimal dot between decimal digits or a characters \n",
    "print(string.isdecimal())"
   ]
  },
  {
   "cell_type": "markdown",
   "id": "1de45812-71e3-4ca4-a94a-a5628084de5b",
   "metadata": {},
   "source": [
    "# isdigit : all characters in a string are digits (0-9)"
   ]
  },
  {
   "cell_type": "code",
   "execution_count": 94,
   "id": "0b5a0b0c-838e-49eb-8469-0d5f3759147a",
   "metadata": {},
   "outputs": [
    {
     "name": "stdout",
     "output_type": "stream",
     "text": [
      "True\n"
     ]
    }
   ],
   "source": [
    "string = \"545156\"   \n",
    "print(string.isdigit())"
   ]
  },
  {
   "cell_type": "code",
   "execution_count": 90,
   "id": "2d7ccb4a-a8f3-48c7-8c96-e4741912843f",
   "metadata": {},
   "outputs": [
    {
     "name": "stdout",
     "output_type": "stream",
     "text": [
      "False\n"
     ]
    }
   ],
   "source": [
    "string = \"5491.5\"   # its true when string includes only 0-9 digits , not a single space\n",
    "print(string.isdigit())"
   ]
  },
  {
   "cell_type": "markdown",
   "id": "643fd4c6-108c-4ed7-8321-26394dc51778",
   "metadata": {},
   "source": [
    "# isidentifier() : starts with a letter (a-z,A-Z) or underscore(_) and the characters only allowed a letters (a-z,A-Z), digits(0-9),and underscore(_)"
   ]
  },
  {
   "cell_type": "code",
   "execution_count": 105,
   "id": "202105f4-8edf-4219-bc0f-83d8afac98a0",
   "metadata": {},
   "outputs": [
    {
     "name": "stdout",
     "output_type": "stream",
     "text": [
      "True\n"
     ]
    }
   ],
   "source": [
    "string = \"hii_python\"\n",
    "print(string.isidentifier())"
   ]
  },
  {
   "cell_type": "code",
   "execution_count": 109,
   "id": "572c8479-3361-4f1e-a05b-196e6b7b8ece",
   "metadata": {},
   "outputs": [
    {
     "name": "stdout",
     "output_type": "stream",
     "text": [
      "False\n"
     ]
    }
   ],
   "source": [
    "string = \"hii python\"      # string should not contain a space\n",
    "print(string.isidentifier())"
   ]
  },
  {
   "cell_type": "markdown",
   "id": "27c21b6f-33c1-4de9-ad5a-c8abd59f7420",
   "metadata": {},
   "source": [
    "# islower() : all characters in a string are in lower case"
   ]
  },
  {
   "cell_type": "code",
   "execution_count": 111,
   "id": "997799fc-07ed-4818-8766-63b3b428ec8d",
   "metadata": {},
   "outputs": [
    {
     "name": "stdout",
     "output_type": "stream",
     "text": [
      "True\n"
     ]
    }
   ],
   "source": [
    "string = \"python\"\n",
    "print(string.islower())"
   ]
  },
  {
   "cell_type": "code",
   "execution_count": 113,
   "id": "f08090ca-1dc7-4f22-ace0-e51d579f8658",
   "metadata": {},
   "outputs": [
    {
     "name": "stdout",
     "output_type": "stream",
     "text": [
      "False\n"
     ]
    }
   ],
   "source": [
    "string = \"Python\"           # string contains a upper case \n",
    "print(string.islower())"
   ]
  },
  {
   "cell_type": "markdown",
   "id": "4105c9cd-f5c2-476f-9ba1-dd3a37d605f8",
   "metadata": {},
   "source": [
    "# isnumeric() : string containing only the digits 0-9"
   ]
  },
  {
   "cell_type": "code",
   "execution_count": 114,
   "id": "07cefcaf-26c1-45c8-a359-8fdfbfdefe9b",
   "metadata": {},
   "outputs": [
    {
     "name": "stdout",
     "output_type": "stream",
     "text": [
      "True\n"
     ]
    }
   ],
   "source": [
    "string = \"124\"\n",
    "print(string.isnumeric())"
   ]
  },
  {
   "cell_type": "code",
   "execution_count": 120,
   "id": "9a139898-17d1-472e-a9b0-e834241e20d5",
   "metadata": {},
   "outputs": [
    {
     "name": "stdout",
     "output_type": "stream",
     "text": [
      "False\n"
     ]
    }
   ],
   "source": [
    "string = \"12.5\"           #  no decimal point and no space \n",
    "print(string.isnumeric())"
   ]
  },
  {
   "cell_type": "markdown",
   "id": "cf978e0a-018e-4bc2-a648-a0c5e064ee7d",
   "metadata": {},
   "source": [
    "# isprintable() : all characters are printable or if the string is empty"
   ]
  },
  {
   "cell_type": "code",
   "execution_count": 3,
   "id": "aed0cf12-c178-418c-9a3a-556ea9e799fe",
   "metadata": {},
   "outputs": [
    {
     "name": "stdout",
     "output_type": "stream",
     "text": [
      "True\n"
     ]
    }
   ],
   "source": [
    "string = \"ˈʊərdu\"\n",
    "print(string.isprintable())"
   ]
  },
  {
   "cell_type": "code",
   "execution_count": 128,
   "id": "54275547-b805-4e46-a523-5fb310019cf9",
   "metadata": {},
   "outputs": [
    {
     "name": "stdout",
     "output_type": "stream",
     "text": [
      "True\n"
     ]
    }
   ],
   "source": [
    "string = \"156` `1` \"\n",
    "print(string.isprintable())"
   ]
  },
  {
   "cell_type": "code",
   "execution_count": 12,
   "id": "fd8edf4a-5fd2-448f-8c70-12d8a1df2c61",
   "metadata": {},
   "outputs": [
    {
     "name": "stdout",
     "output_type": "stream",
     "text": [
      "True\n"
     ]
    }
   ],
   "source": [
    "string = \".,\"\n",
    "print(string.isprintable())"
   ]
  },
  {
   "cell_type": "markdown",
   "id": "309d7d08-69a5-4dd5-8dcb-51215d6dce56",
   "metadata": {},
   "source": [
    "# isspace() : True if all characters in the string are whitespace and the string is not empty"
   ]
  },
  {
   "cell_type": "code",
   "execution_count": 1,
   "id": "f0fff590-bda7-4dc5-ace8-b467a528288f",
   "metadata": {},
   "outputs": [
    {
     "name": "stdout",
     "output_type": "stream",
     "text": [
      "True\n"
     ]
    }
   ],
   "source": [
    "string = \"  \"     \n",
    "print(string.isspace())"
   ]
  },
  {
   "cell_type": "code",
   "execution_count": 3,
   "id": "3d531e7a-0f9e-4992-8460-3d06707459fd",
   "metadata": {},
   "outputs": [
    {
     "name": "stdout",
     "output_type": "stream",
     "text": [
      "False\n"
     ]
    }
   ],
   "source": [
    "string = \"djd\"     # there is a character and isspace wants a white space character\n",
    "print(string.isspace())"
   ]
  },
  {
   "cell_type": "markdown",
   "id": "0078c96f-7fb1-489f-ab30-9ded1834fe09",
   "metadata": {},
   "source": [
    "# istitle() :  1. The first letter of each word is uppercase.\n",
    "# .......... 2. The rest of the letters in each word are lowercase.\n"
   ]
  },
  {
   "cell_type": "code",
   "execution_count": 9,
   "id": "7a8d4f28-e1a5-4a8a-95d5-5e6774e34278",
   "metadata": {},
   "outputs": [
    {
     "name": "stdout",
     "output_type": "stream",
     "text": [
      "True\n"
     ]
    }
   ],
   "source": [
    "string = \"This Is A Example 1155 \"         # if the string is non-empty and every word starts with an uppercase letter followed by lowercase letters.\n",
    "print(string.istitle())"
   ]
  },
  {
   "cell_type": "code",
   "execution_count": 7,
   "id": "c32329a9-58cb-426d-a568-d0ef30012fd6",
   "metadata": {},
   "outputs": [
    {
     "name": "stdout",
     "output_type": "stream",
     "text": [
      "False\n"
     ]
    }
   ],
   "source": [
    "string = \"This Is A example \"\n",
    "print(string.istitle())"
   ]
  },
  {
   "cell_type": "markdown",
   "id": "5d7a0aa0-ab42-4fa6-acb7-828586ee43fe",
   "metadata": {},
   "source": [
    "# isupper() : returns True if all characters in the string are uppercase , otherwise it returns False."
   ]
  },
  {
   "cell_type": "code",
   "execution_count": 18,
   "id": "825711f3-4695-4051-bc71-0b9802d259de",
   "metadata": {},
   "outputs": [
    {
     "name": "stdout",
     "output_type": "stream",
     "text": [
      "False\n"
     ]
    }
   ],
   "source": [
    "string = \"Hello\"\n",
    "print(string.isupper())"
   ]
  },
  {
   "cell_type": "code",
   "execution_count": 19,
   "id": "1958fa3a-bad2-4c15-b5bf-778d6e42fd9d",
   "metadata": {},
   "outputs": [
    {
     "name": "stdout",
     "output_type": "stream",
     "text": [
      "True\n"
     ]
    }
   ],
   "source": [
    "string = \"HELLO\"\n",
    "print(string.isupper())"
   ]
  },
  {
   "cell_type": "markdown",
   "id": "98b863c7-3d1b-4c03-a41f-0178872b81df",
   "metadata": {},
   "source": [
    "# Centre() : That centers a string within a specified width"
   ]
  },
  {
   "cell_type": "code",
   "execution_count": 7,
   "id": "87f14ca9-da81-4f49-a55d-105270ba6a4a",
   "metadata": {},
   "outputs": [
    {
     "name": "stdout",
     "output_type": "stream",
     "text": [
      "5555555555555555555555python5555555555555555555555\n"
     ]
    }
   ],
   "source": [
    "string = \"python\"\n",
    "print(string.center(50 , \"5\"))"
   ]
  },
  {
   "cell_type": "markdown",
   "id": "124901ae-0eb9-4540-96c4-db71a5c99de9",
   "metadata": {},
   "source": [
    "# endswith() : checks if a string ends with a specified suffix"
   ]
  },
  {
   "cell_type": "code",
   "execution_count": 18,
   "id": "fabe7fbc-8c51-4328-ab78-8510193d478e",
   "metadata": {},
   "outputs": [
    {
     "name": "stdout",
     "output_type": "stream",
     "text": [
      "True\n"
     ]
    }
   ],
   "source": [
    "string = \"python is a interpreter\"      #  interpreter is on last\n",
    "print(string.endswith(\"interpreter\"))"
   ]
  },
  {
   "cell_type": "code",
   "execution_count": 17,
   "id": "98aa97d7-74d4-4cb2-a8ff-a406473876d1",
   "metadata": {},
   "outputs": [
    {
     "name": "stdout",
     "output_type": "stream",
     "text": [
      "True\n"
     ]
    }
   ],
   "source": [
    "string = \"high level language\"           # e is on end of the language\n",
    "print(string.endswith(\"e\"))"
   ]
  },
  {
   "cell_type": "markdown",
   "id": "8a6f9fe6-7169-4c42-8550-97fc3a9f680e",
   "metadata": {},
   "source": [
    "# encode()"
   ]
  },
  {
   "cell_type": "code",
   "execution_count": 2,
   "id": "05ecd957-c0c1-4ccd-979f-8b39da35f1a3",
   "metadata": {},
   "outputs": [
    {
     "name": "stdout",
     "output_type": "stream",
     "text": [
      "b'Aryan'\n"
     ]
    }
   ],
   "source": [
    "name = \"Aryan\"\n",
    "print(name.encode())\n"
   ]
  },
  {
   "cell_type": "markdown",
   "id": "74dfe88a-1c17-4f6e-bef2-7e38ab648eb2",
   "metadata": {},
   "source": [
    "# expandtabs() :  that expands tabs (\\t) in a string to a specified number of spaces.\n"
   ]
  },
  {
   "cell_type": "code",
   "execution_count": 25,
   "id": "4d1183e7-7116-4fb4-9c62-7e91d311562c",
   "metadata": {},
   "outputs": [
    {
     "name": "stdout",
     "output_type": "stream",
     "text": [
      "hello         python        happy\n"
     ]
    }
   ],
   "source": [
    "string = \"hello\\tpython\\thappy\"\n",
    "print(string.expandtabs(14))"
   ]
  },
  {
   "cell_type": "markdown",
   "id": "e65fbdb1-c600-43cf-b720-dd5e444b448d",
   "metadata": {},
   "source": [
    "# format"
   ]
  },
  {
   "cell_type": "code",
   "execution_count": null,
   "id": "934136d3-a54b-43b3-ab08-e089fc0c3b25",
   "metadata": {},
   "outputs": [],
   "source": [
    "this method is in a string formaating method...                                                           "
   ]
  },
  {
   "cell_type": "markdown",
   "id": "6f727b55-82c0-4eeb-b70c-5ff9592f46aa",
   "metadata": {},
   "source": [
    "# format_map :  is used to format strings using a mapping (such as a dictionary)"
   ]
  },
  {
   "cell_type": "code",
   "execution_count": 10,
   "id": "a2b220c9-791e-4714-82cb-95cb75a4867c",
   "metadata": {},
   "outputs": [
    {
     "name": "stdout",
     "output_type": "stream",
     "text": [
      "Name: is john, Age: 26\n"
     ]
    }
   ],
   "source": [
    "string = {\"name\" : \"john\" , \"age\" : \"26\"}\n",
    "print('Name:  {name}, Age: {age}'.format_map(string))"
   ]
  },
  {
   "cell_type": "code",
   "execution_count": 11,
   "id": "7530e03c-844b-4ede-9704-fc76b837867b",
   "metadata": {},
   "outputs": [
    {
     "name": "stdout",
     "output_type": "stream",
     "text": [
      "my name is john and my age is 26\n"
     ]
    }
   ],
   "source": [
    "string = {\"name\" : \"john\" , \"age\" : \"26\"}\n",
    "print('my name is {name} and my age is {age}'.format_map(string))"
   ]
  },
  {
   "cell_type": "markdown",
   "id": "fab0e240-4376-468c-b8ea-5db65bed9d30",
   "metadata": {},
   "source": [
    "# join() :  concatenates a sequence of strings into a single string, using the string it's called on as a separator."
   ]
  },
  {
   "cell_type": "code",
   "execution_count": 26,
   "id": "c3b0b128-1953-493a-b860-e4ac821f0fda",
   "metadata": {},
   "outputs": [
    {
     "name": "stdout",
     "output_type": "stream",
     "text": [
      "Hi i m Aryan\n"
     ]
    }
   ],
   "source": [
    "string = \"Hi\", \"i\" ,\"m\", \"Aryan\"\n",
    "print(\" \".join(string))"
   ]
  },
  {
   "cell_type": "markdown",
   "id": "3398ac12-e810-4e8f-981b-51d40960a64b",
   "metadata": {},
   "source": [
    "# ljust() : A new string that is left-justified to the specified width"
   ]
  },
  {
   "cell_type": "markdown",
   "id": "cb027601-ea4d-42d6-aa13-9554c2d5b2cc",
   "metadata": {},
   "source": [
    "string = \"hello\"\n",
    "print(string.ljust(15))"
   ]
  },
  {
   "cell_type": "code",
   "execution_count": 38,
   "id": "c0faed2d-87fe-4b4b-a7a7-149acf6a53a8",
   "metadata": {},
   "outputs": [
    {
     "name": "stdout",
     "output_type": "stream",
     "text": [
      "hello----------\n"
     ]
    }
   ],
   "source": [
    "string = \"hello\"\n",
    "print(string.ljust(15,\"-\"))"
   ]
  },
  {
   "cell_type": "markdown",
   "id": "39661b04-a5a1-4767-ae13-24826f06255d",
   "metadata": {},
   "source": [
    "# lstrip :  that removes leading (left-side) whitespace or specified characters from a string"
   ]
  },
  {
   "cell_type": "code",
   "execution_count": 39,
   "id": "5503b8c0-9107-4c04-abcc-f397881571cc",
   "metadata": {},
   "outputs": [
    {
     "name": "stdout",
     "output_type": "stream",
     "text": [
      "hiiiiiii\n"
     ]
    }
   ],
   "source": [
    "string = \"        hiiiiiii\"\n",
    "print(string.lstrip())"
   ]
  },
  {
   "cell_type": "code",
   "execution_count": 41,
   "id": "925c5070-e0db-43b2-a94c-5eaad32ca708",
   "metadata": {},
   "outputs": [
    {
     "name": "stdout",
     "output_type": "stream",
     "text": [
      "iiiiiii\n"
     ]
    }
   ],
   "source": [
    "string = \"hiiiiiii\"\n",
    "print(string.lstrip(\"h\"))"
   ]
  },
  {
   "cell_type": "code",
   "execution_count": 49,
   "id": "d854ce1f-0b22-46f1-b955-91dcaefa88e4",
   "metadata": {},
   "outputs": [
    {
     "name": "stdout",
     "output_type": "stream",
     "text": [
      "hiiiiiii\n"
     ]
    }
   ],
   "source": [
    "string = \"/////hiiiiiii\"\n",
    "print(string.lstrip(\"/\"))"
   ]
  },
  {
   "cell_type": "markdown",
   "id": "f3e08cd8-71a4-4a4d-a8c1-8291027c23ba",
   "metadata": {},
   "source": [
    "# maketrans() : The str.maketrans() method in Python creates a translation table that can be used with the translate() method to replace specified characters."
   ]
  },
  {
   "cell_type": "code",
   "execution_count": 5,
   "id": "8e90d867-ec77-4151-a355-2197e2490297",
   "metadata": {},
   "outputs": [
    {
     "name": "stdout",
     "output_type": "stream",
     "text": [
      "hw are yu\n"
     ]
    }
   ],
   "source": [
    "text = \"how are you\"\n",
    "texxt = str.maketrans(\"\",\"\",\"o\")   # delete \"o\"\n",
    "result = text.translate(texxt)\n",
    "print(result)"
   ]
  },
  {
   "cell_type": "markdown",
   "id": "45553171-c3ec-4bb7-9859-e7688eae071e",
   "metadata": {},
   "source": [
    "# partition() = Python splits a string into three parts:\n",
    "\n",
    "1. The part before the specified separator.\n",
    "2. The separator itself.\n",
    "3. The part after the specified separator."
   ]
  },
  {
   "cell_type": "code",
   "execution_count": 17,
   "id": "8f4af1fc-6894-4b9f-92a1-df20a15bebe3",
   "metadata": {},
   "outputs": [
    {
     "name": "stdout",
     "output_type": "stream",
     "text": [
      "('hello', '-', 'world')\n"
     ]
    }
   ],
   "source": [
    "string = \"hello-world\"\n",
    "print(string.partition(\"-\"))"
   ]
  },
  {
   "cell_type": "code",
   "execution_count": 18,
   "id": "a5f6ddfe-d0ca-4c7d-b364-03e06d920929",
   "metadata": {},
   "outputs": [
    {
     "name": "stdout",
     "output_type": "stream",
     "text": [
      "('hello world', '', '')\n"
     ]
    }
   ],
   "source": [
    "string = \"hello world\"\n",
    "print(string.partition(\":\"))"
   ]
  },
  {
   "cell_type": "markdown",
   "id": "e71be4a8-fca4-44f0-bf10-156f8f5c2612",
   "metadata": {},
   "source": [
    "# removeprefix() :  is used to remove a specified prefix from the beginning of a string, if it exists"
   ]
  },
  {
   "cell_type": "code",
   "execution_count": 30,
   "id": "c2f67e03-e9ec-4984-9f5e-0bbb8865755c",
   "metadata": {},
   "outputs": [
    {
     "name": "stdout",
     "output_type": "stream",
     "text": [
      " world\n"
     ]
    }
   ],
   "source": [
    "string = \"hello world\"\n",
    "print(string.removeprefix(\"hello\"))"
   ]
  },
  {
   "cell_type": "code",
   "execution_count": 31,
   "id": "63de7a91-4db2-4faf-b284-8a6fed8b6ee6",
   "metadata": {},
   "outputs": [
    {
     "name": "stdout",
     "output_type": "stream",
     "text": [
      "ello world\n"
     ]
    }
   ],
   "source": [
    "string = \"hello world\"\n",
    "print(string.removeprefix(\"h\"))"
   ]
  },
  {
   "cell_type": "markdown",
   "id": "97d69b2e-0108-4ad0-a939-97470bb30984",
   "metadata": {},
   "source": [
    "# removesuffix :  is used to remove a specified suffix from the end of a string, if it exists."
   ]
  },
  {
   "cell_type": "code",
   "execution_count": 33,
   "id": "81874487-6069-4a86-a793-56aeb27c1d4f",
   "metadata": {},
   "outputs": [
    {
     "name": "stdout",
     "output_type": "stream",
     "text": [
      "hello wor\n"
     ]
    }
   ],
   "source": [
    "string = \"hello world\"\n",
    "print(string.removesuffix(\"ld\"))"
   ]
  },
  {
   "cell_type": "code",
   "execution_count": 35,
   "id": "0e6c10cb-6f87-475c-b3a3-de25189b8cb5",
   "metadata": {},
   "outputs": [
    {
     "name": "stdout",
     "output_type": "stream",
     "text": [
      "hello\n"
     ]
    }
   ],
   "source": [
    "string = \"helloworld\"\n",
    "print(string.removesuffix(\"world\"))"
   ]
  },
  {
   "cell_type": "markdown",
   "id": "61479c9c-bee6-4961-b97a-402520b9cf4a",
   "metadata": {},
   "source": [
    "# rfind() : The rfind() method is similar to find(), but it searches from the right (end) of the string instead of the left (start)"
   ]
  },
  {
   "cell_type": "code",
   "execution_count": 41,
   "id": "fa61c65e-f6c1-483e-925b-3fcc05d04d5b",
   "metadata": {},
   "outputs": [
    {
     "name": "stdout",
     "output_type": "stream",
     "text": [
      "10\n"
     ]
    }
   ],
   "source": [
    "string = \"hello python\"\n",
    "print(string.rfind(\"o\"))"
   ]
  },
  {
   "cell_type": "code",
   "execution_count": 48,
   "id": "5ce70f21-b408-45a8-9433-a6b2c71d540e",
   "metadata": {},
   "outputs": [
    {
     "name": "stdout",
     "output_type": "stream",
     "text": [
      "18\n"
     ]
    }
   ],
   "source": [
    "string = \"hello world hello world\"\n",
    "print(string.rfind(\"world\"))"
   ]
  },
  {
   "cell_type": "markdown",
   "id": "9ea4245b-00db-4d3f-9e11-02afdc54c5a1",
   "metadata": {},
   "source": [
    "# rindex : The rindex() method in Python is similar to rfind(), but with a key difference: it raises an error if the substring is not found"
   ]
  },
  {
   "cell_type": "code",
   "execution_count": 51,
   "id": "7bfbce01-beae-4a8b-8555-05e4d0d8d265",
   "metadata": {},
   "outputs": [
    {
     "name": "stdout",
     "output_type": "stream",
     "text": [
      "8\n"
     ]
    }
   ],
   "source": [
    "string = \"hello python\"\n",
    "print(string.rindex(\"t\"))"
   ]
  },
  {
   "cell_type": "code",
   "execution_count": 53,
   "id": "08a74e5b-bc0b-44fd-83a0-703697c1b270",
   "metadata": {},
   "outputs": [
    {
     "name": "stdout",
     "output_type": "stream",
     "text": [
      "                                                 hello\n"
     ]
    }
   ],
   "source": [
    "string = \"hello\"\n",
    "print(string.rjust(54))"
   ]
  },
  {
   "cell_type": "markdown",
   "id": "6173c613-649f-494c-bdf1-9594a3fab265",
   "metadata": {},
   "source": [
    "# rjust() :  returns a string of a specified width, where the original string is right-justified and padded with a specified fill character (default is space)."
   ]
  },
  {
   "cell_type": "code",
   "execution_count": 62,
   "id": "eadbe87e-69dc-4a2c-9a3a-fb26e3711476",
   "metadata": {},
   "outputs": [
    {
     "name": "stdout",
     "output_type": "stream",
     "text": [
      "                                    'python'\n"
     ]
    }
   ],
   "source": [
    "string = \"\\'python\\'\"\n",
    "print(string.rjust(44))"
   ]
  },
  {
   "cell_type": "code",
   "execution_count": 58,
   "id": "c01575d8-7079-425a-b90f-44bdc560e70b",
   "metadata": {},
   "outputs": [
    {
     "name": "stdout",
     "output_type": "stream",
     "text": [
      "//////////////////////////////////////python\n"
     ]
    }
   ],
   "source": [
    "string = \"python\"\n",
    "print(string.rjust(44,\"/\"))"
   ]
  },
  {
   "cell_type": "markdown",
   "id": "470a9493-a539-4b15-b27c-1f3ac7c79315",
   "metadata": {},
   "source": [
    "# rpartition() :  Python splits a string into three parts:\n",
    "1. The part before the last occurrence of the specified separator.\n",
    "2. The separator itself.\n",
    "3. The part after the last occurrence of the specified separator.\n",
    "\n"
   ]
  },
  {
   "cell_type": "code",
   "execution_count": 66,
   "id": "535fe12d-c670-449b-b12a-ece54e181396",
   "metadata": {},
   "outputs": [
    {
     "name": "stdout",
     "output_type": "stream",
     "text": [
      "('a/b', '/', 'c')\n"
     ]
    }
   ],
   "source": [
    "string = \"a/b/c\"                #  last occurrence of the specified separator\n",
    "print(string.rpartition(\"/\"))"
   ]
  },
  {
   "cell_type": "code",
   "execution_count": 68,
   "id": "30d0ea70-7d05-40b1-8377-6d507de0a443",
   "metadata": {},
   "outputs": [
    {
     "name": "stdout",
     "output_type": "stream",
     "text": [
      "('', '', 'filename')\n"
     ]
    }
   ],
   "source": [
    "string = \"filename\"\n",
    "print(string.rpartition(\" \"))"
   ]
  },
  {
   "cell_type": "markdown",
   "id": "bbdc3de4-b8fc-428f-a0d0-ace66f31b4c0",
   "metadata": {},
   "source": [
    "# rsplit : Python splits a string into a list of substrings, starting from the right (end) of the string. "
   ]
  },
  {
   "cell_type": "code",
   "execution_count": 70,
   "id": "78220b63-10da-4808-960c-2c6f537fea14",
   "metadata": {},
   "outputs": [
    {
     "name": "stdout",
     "output_type": "stream",
     "text": [
      "['a,b,c,d']\n"
     ]
    }
   ],
   "source": [
    "string = \"a,b,c,d\"\n",
    "print(string.rsplit(\" \"))"
   ]
  },
  {
   "cell_type": "code",
   "execution_count": 71,
   "id": "f43c128b-01b6-4dc2-829e-f02ed5f20a77",
   "metadata": {},
   "outputs": [
    {
     "name": "stdout",
     "output_type": "stream",
     "text": [
      "['a', 'b', 'c', 'd']\n"
     ]
    }
   ],
   "source": [
    "string = \"a,b,c,d\"\n",
    "print(string.rsplit(\",\"))"
   ]
  },
  {
   "cell_type": "markdown",
   "id": "f1f008a9-8a8c-4007-a53a-7122a8038b36",
   "metadata": {},
   "source": [
    "# rstrip : removes trailing characters (characters at the end of a string)"
   ]
  },
  {
   "cell_type": "code",
   "execution_count": 74,
   "id": "3d3dd5fe-e575-4356-98a0-57d318d84336",
   "metadata": {},
   "outputs": [
    {
     "name": "stdout",
     "output_type": "stream",
     "text": [
      "Aryan\n"
     ]
    }
   ],
   "source": [
    "string = \"Aryan       \"               \n",
    "print(string.rstrip(\" \"))"
   ]
  },
  {
   "cell_type": "code",
   "execution_count": 76,
   "id": "63f67690-ff73-4be8-91f9-d030afa72238",
   "metadata": {},
   "outputs": [
    {
     "name": "stdout",
     "output_type": "stream",
     "text": [
      "Aryan\n"
     ]
    }
   ],
   "source": [
    "string = \"Aryan/////\"\n",
    "print(string.rstrip(\"/\"))"
   ]
  },
  {
   "cell_type": "code",
   "execution_count": 77,
   "id": "aaa4423e-cdbb-4d24-a159-e5e864ca5349",
   "metadata": {},
   "outputs": [
    {
     "name": "stdout",
     "output_type": "stream",
     "text": [
      "Arya\n"
     ]
    }
   ],
   "source": [
    "string = \"Aryan\"\n",
    "print(string.rstrip(\"n\"))"
   ]
  },
  {
   "cell_type": "markdown",
   "id": "b632ab62-42c8-49c8-a10e-4eab32de4406",
   "metadata": {},
   "source": [
    "# split() : used to split a string into a list of substrings, based on a specified separator. It starts splitting from the left"
   ]
  },
  {
   "cell_type": "code",
   "execution_count": 78,
   "id": "8aff5076-7bdf-4d92-982b-dc70f50282a8",
   "metadata": {},
   "outputs": [
    {
     "name": "stdout",
     "output_type": "stream",
     "text": [
      "['my', 'name', 'is', 'Aryan']\n"
     ]
    }
   ],
   "source": [
    "string = \"my name is Aryan\"\n",
    "print(string.split())"
   ]
  },
  {
   "cell_type": "code",
   "execution_count": 81,
   "id": "164a4e46-12cf-478a-a749-e4c0cb5f5df7",
   "metadata": {},
   "outputs": [
    {
     "name": "stdout",
     "output_type": "stream",
     "text": [
      "['my', 'name', 'is Aryan and m age is 20']\n"
     ]
    }
   ],
   "source": [
    "string = \"my name is Aryan and m age is 20\"\n",
    "print(string.split(\" \",2))"
   ]
  },
  {
   "cell_type": "markdown",
   "id": "0f453b4d-4504-43aa-aa88-a0bac43db88a",
   "metadata": {},
   "source": [
    "# splitlines() : is used to split a string into a list where each line is a list item. It breaks the string at line boundaries (\\n, \\r, \\r\\n)"
   ]
  },
  {
   "cell_type": "code",
   "execution_count": 1,
   "id": "94b7be3a-88d2-4c39-b74d-262f667d4366",
   "metadata": {},
   "outputs": [
    {
     "name": "stdout",
     "output_type": "stream",
     "text": [
      "['hello', 'world', 'again']\n"
     ]
    }
   ],
   "source": [
    "string = \"hello\\nworld\\nagain\"\n",
    "print(string.splitlines())"
   ]
  },
  {
   "cell_type": "code",
   "execution_count": 3,
   "id": "dd3850a9-99bd-4811-afd4-d08558cf4ea1",
   "metadata": {},
   "outputs": [
    {
     "name": "stdout",
     "output_type": "stream",
     "text": [
      "['hello\\n', 'world\\n', 'again']\n"
     ]
    }
   ],
   "source": [
    "string = \"hello\\nworld\\nagain\"\n",
    "print(string.splitlines(True))"
   ]
  },
  {
   "cell_type": "code",
   "execution_count": 11,
   "id": "3176116c-0f5b-4e10-b7c5-7fffe17ae048",
   "metadata": {},
   "outputs": [
    {
     "name": "stdout",
     "output_type": "stream",
     "text": [
      "['Name : Aryan RAjput', 'Age : 20', 'city : bijnor']\n"
     ]
    }
   ],
   "source": [
    "string = \"\"\"Name : Aryan RAjput\n",
    "Age : 20\n",
    "city : bijnor\"\"\"\n",
    "print(string.splitlines(\"\"))"
   ]
  },
  {
   "cell_type": "markdown",
   "id": "5c075f22-6d88-4c25-bfaa-5c0f7da8f21e",
   "metadata": {},
   "source": [
    "# startswith() : checks whether a string starts with a specified prefix"
   ]
  },
  {
   "cell_type": "code",
   "execution_count": 16,
   "id": "2124176c-e905-4b7f-a2c2-297b8f83a90e",
   "metadata": {},
   "outputs": [
    {
     "name": "stdout",
     "output_type": "stream",
     "text": [
      "True\n"
     ]
    }
   ],
   "source": [
    "string = \"hello python\"\n",
    "print(string.startswith(\"hello\"))"
   ]
  },
  {
   "cell_type": "code",
   "execution_count": 17,
   "id": "174ccaac-4563-422e-9947-f3a745151b24",
   "metadata": {},
   "outputs": [
    {
     "name": "stdout",
     "output_type": "stream",
     "text": [
      "True\n"
     ]
    }
   ],
   "source": [
    "string = \"hello python\"\n",
    "print(string.startswith(\"h\"))"
   ]
  },
  {
   "cell_type": "markdown",
   "id": "d96632ab-d30e-4f60-a007-7cb62af66165",
   "metadata": {},
   "source": [
    "# strip() :  removes leading and trailing characters from a string"
   ]
  },
  {
   "cell_type": "code",
   "execution_count": 18,
   "id": "1627c28d-a66b-46a0-b6f5-1ec3d5cf5c55",
   "metadata": {},
   "outputs": [
    {
     "name": "stdout",
     "output_type": "stream",
     "text": [
      "hello world\n"
     ]
    }
   ],
   "source": [
    "string = \"hello world                        \"\n",
    "print(string.strip())"
   ]
  },
  {
   "cell_type": "code",
   "execution_count": 28,
   "id": "2da7d62f-0616-4012-a4e2-6f7d94fba1d2",
   "metadata": {},
   "outputs": [
    {
     "name": "stdout",
     "output_type": "stream",
     "text": [
      "##hello world\n"
     ]
    }
   ],
   "source": [
    "string = \"##hello world//\"\n",
    "print(string.strip(\"/\"))"
   ]
  },
  {
   "cell_type": "code",
   "execution_count": 29,
   "id": "99f56dcb-d258-4eae-8f97-7fccb85858f9",
   "metadata": {},
   "outputs": [
    {
     "name": "stdout",
     "output_type": "stream",
     "text": [
      "hello world\n"
     ]
    }
   ],
   "source": [
    "string = \"##hello world//\"\n",
    "print(string.strip(\"#,/\"))"
   ]
  },
  {
   "cell_type": "markdown",
   "id": "3d9f63d9-3449-4e72-9f6f-bb553f7ff7d0",
   "metadata": {},
   "source": [
    "# swapcase() : swaps the case of all characters in a string"
   ]
  },
  {
   "cell_type": "code",
   "execution_count": 30,
   "id": "c02c2984-b5d2-43b3-97d9-eab4e9bc9dca",
   "metadata": {},
   "outputs": [
    {
     "name": "stdout",
     "output_type": "stream",
     "text": [
      "HELLO WORLD\n"
     ]
    }
   ],
   "source": [
    "string = \"hello world\"\n",
    "print(string.swapcase())"
   ]
  },
  {
   "cell_type": "code",
   "execution_count": 31,
   "id": "11f744f1-5183-4b3d-a7fc-7cf1f99a1343",
   "metadata": {},
   "outputs": [
    {
     "name": "stdout",
     "output_type": "stream",
     "text": [
      "hELLo wORLd\n"
     ]
    }
   ],
   "source": [
    "string = \"HellO WorlD\"\n",
    "print(string.swapcase())"
   ]
  },
  {
   "cell_type": "markdown",
   "id": "fe5038d1-c9a0-43ab-b7d3-d65dcb6424f6",
   "metadata": {},
   "source": [
    "# title() : converts the first character of each word in a string to uppercase and the rest to lowercase"
   ]
  },
  {
   "cell_type": "code",
   "execution_count": 32,
   "id": "2dfdd152-b2ae-4afc-9776-2291a61cdc93",
   "metadata": {},
   "outputs": [
    {
     "name": "stdout",
     "output_type": "stream",
     "text": [
      "Hello World\n"
     ]
    }
   ],
   "source": [
    "string = \"hellO worlD\"\n",
    "print(string.title())"
   ]
  },
  {
   "cell_type": "markdown",
   "id": "e36d7165-9aa6-4efe-8c42-fea3c8e9eed4",
   "metadata": {},
   "source": [
    "# translate() :  replaces specified characters in a string with other specified characters"
   ]
  },
  {
   "cell_type": "code",
   "execution_count": 3,
   "id": "4afdf5a0-93bf-44ee-ae43-9809762830eb",
   "metadata": {},
   "outputs": [
    {
     "name": "stdout",
     "output_type": "stream",
     "text": [
      "Hi Sunny\n"
     ]
    }
   ],
   "source": [
    "A = \"Hi Bobby\"\n",
    "B = str.maketrans(\"Bobby\",\"Sunny\")\n",
    "print(A.translate(B))\n",
    "\n",
    "\n"
   ]
  },
  {
   "cell_type": "markdown",
   "id": "846a1ebd-0169-44f7-ab14-d5c018be7365",
   "metadata": {},
   "source": [
    "# zfill() :  a string with zeros on the left to fill the specified width "
   ]
  },
  {
   "cell_type": "code",
   "execution_count": 35,
   "id": "f7951dec-0eb3-4b8d-9347-25be008e932f",
   "metadata": {},
   "outputs": [
    {
     "name": "stdout",
     "output_type": "stream",
     "text": [
      "00000hello\n"
     ]
    }
   ],
   "source": [
    "string = \"hello\"\n",
    "print(string.zfill(10))"
   ]
  },
  {
   "cell_type": "code",
   "execution_count": 36,
   "id": "dd89949a-2de5-4cc1-8324-9a9e9c1a681c",
   "metadata": {},
   "outputs": [
    {
     "name": "stdout",
     "output_type": "stream",
     "text": [
      "000000000000000000042\n"
     ]
    }
   ],
   "source": [
    "string = \"42\"\n",
    "print(string.zfill(21))"
   ]
  },
  {
   "cell_type": "code",
   "execution_count": null,
   "id": "7f7e550c-012b-42cb-b187-20fe63496d54",
   "metadata": {},
   "outputs": [],
   "source": []
  }
 ],
 "metadata": {
  "kernelspec": {
   "display_name": "Python 3 (ipykernel)",
   "language": "python",
   "name": "python3"
  },
  "language_info": {
   "codemirror_mode": {
    "name": "ipython",
    "version": 3
   },
   "file_extension": ".py",
   "mimetype": "text/x-python",
   "name": "python",
   "nbconvert_exporter": "python",
   "pygments_lexer": "ipython3",
   "version": "3.12.7"
  }
 },
 "nbformat": 4,
 "nbformat_minor": 5
}
